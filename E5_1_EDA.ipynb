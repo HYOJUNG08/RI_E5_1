{
 "cells": [
  {
   "cell_type": "code",
   "execution_count": 1,
   "id": "0cbfff5f",
   "metadata": {},
   "outputs": [],
   "source": [
    "import pandas as pd\n",
    "import numpy as np\n",
    "import matplotlib.pyplot as plt\n",
    "import seaborn as sns"
   ]
  },
  {
   "cell_type": "code",
   "execution_count": 55,
   "id": "405124a3",
   "metadata": {},
   "outputs": [],
   "source": [
    "DEMO = pd.read_csv('LPOINT_BIG_COMP_01_DEMO.csv',encoding='cp949')\n",
    "PDDE = pd.read_csv('LPOINT_BIG_COMP_02_PDDE.csv',encoding='cp949', low_memory=False)\n",
    "COP_U = pd.read_csv('LPOINT_BIG_COMP_03_COP_U.csv',encoding='cp949',low_memory=False)\n",
    "PD_CLAC = pd.read_csv('LPOINT_BIG_COMP_04_PD_CLAC.csv',encoding='cp949', low_memory=False)\n",
    "BR = pd.read_csv('LPOINT_BIG_COMP_05_BR.csv',encoding='cp949', low_memory=False)"
   ]
  },
  {
   "cell_type": "markdown",
   "id": "d496f6b0",
   "metadata": {},
   "source": [
    "# 1. DEMO\n",
    "-고객번호, 성별, 연령대, 거주지대분류코드"
   ]
  },
  {
   "cell_type": "code",
   "execution_count": 3,
   "id": "2a6af2a2",
   "metadata": {
    "scrolled": true
   },
   "outputs": [
    {
     "data": {
      "text/html": [
       "<div>\n",
       "<style scoped>\n",
       "    .dataframe tbody tr th:only-of-type {\n",
       "        vertical-align: middle;\n",
       "    }\n",
       "\n",
       "    .dataframe tbody tr th {\n",
       "        vertical-align: top;\n",
       "    }\n",
       "\n",
       "    .dataframe thead th {\n",
       "        text-align: right;\n",
       "    }\n",
       "</style>\n",
       "<table border=\"1\" class=\"dataframe\">\n",
       "  <thead>\n",
       "    <tr style=\"text-align: right;\">\n",
       "      <th></th>\n",
       "      <th>cust</th>\n",
       "      <th>ma_fem_dv</th>\n",
       "      <th>ages</th>\n",
       "      <th>zon_hlv</th>\n",
       "    </tr>\n",
       "  </thead>\n",
       "  <tbody>\n",
       "    <tr>\n",
       "      <th>0</th>\n",
       "      <td>M000034966</td>\n",
       "      <td>여성</td>\n",
       "      <td>40대</td>\n",
       "      <td>Z07</td>\n",
       "    </tr>\n",
       "    <tr>\n",
       "      <th>1</th>\n",
       "      <td>M000059535</td>\n",
       "      <td>여성</td>\n",
       "      <td>30대</td>\n",
       "      <td>Z12</td>\n",
       "    </tr>\n",
       "    <tr>\n",
       "      <th>2</th>\n",
       "      <td>M000136117</td>\n",
       "      <td>여성</td>\n",
       "      <td>30대</td>\n",
       "      <td>Z11</td>\n",
       "    </tr>\n",
       "    <tr>\n",
       "      <th>3</th>\n",
       "      <td>M000201112</td>\n",
       "      <td>여성</td>\n",
       "      <td>50대</td>\n",
       "      <td>Z17</td>\n",
       "    </tr>\n",
       "    <tr>\n",
       "      <th>4</th>\n",
       "      <td>M000225114</td>\n",
       "      <td>여성</td>\n",
       "      <td>40대</td>\n",
       "      <td>Z17</td>\n",
       "    </tr>\n",
       "  </tbody>\n",
       "</table>\n",
       "</div>"
      ],
      "text/plain": [
       "         cust ma_fem_dv ages zon_hlv\n",
       "0  M000034966        여성  40대     Z07\n",
       "1  M000059535        여성  30대     Z12\n",
       "2  M000136117        여성  30대     Z11\n",
       "3  M000201112        여성  50대     Z17\n",
       "4  M000225114        여성  40대     Z17"
      ]
     },
     "execution_count": 3,
     "metadata": {},
     "output_type": "execute_result"
    }
   ],
   "source": [
    "DEMO.head()"
   ]
  },
  {
   "cell_type": "code",
   "execution_count": 4,
   "id": "bd175358",
   "metadata": {},
   "outputs": [
    {
     "data": {
      "text/html": [
       "<div>\n",
       "<style scoped>\n",
       "    .dataframe tbody tr th:only-of-type {\n",
       "        vertical-align: middle;\n",
       "    }\n",
       "\n",
       "    .dataframe tbody tr th {\n",
       "        vertical-align: top;\n",
       "    }\n",
       "\n",
       "    .dataframe thead th {\n",
       "        text-align: right;\n",
       "    }\n",
       "</style>\n",
       "<table border=\"1\" class=\"dataframe\">\n",
       "  <thead>\n",
       "    <tr style=\"text-align: right;\">\n",
       "      <th></th>\n",
       "      <th>cust</th>\n",
       "      <th>ma_fem_dv</th>\n",
       "      <th>ages</th>\n",
       "      <th>zon_hlv</th>\n",
       "    </tr>\n",
       "  </thead>\n",
       "  <tbody>\n",
       "    <tr>\n",
       "      <th>count</th>\n",
       "      <td>29913</td>\n",
       "      <td>29913</td>\n",
       "      <td>29913</td>\n",
       "      <td>29913</td>\n",
       "    </tr>\n",
       "    <tr>\n",
       "      <th>unique</th>\n",
       "      <td>29913</td>\n",
       "      <td>2</td>\n",
       "      <td>6</td>\n",
       "      <td>17</td>\n",
       "    </tr>\n",
       "    <tr>\n",
       "      <th>top</th>\n",
       "      <td>M000034966</td>\n",
       "      <td>여성</td>\n",
       "      <td>40대</td>\n",
       "      <td>Z10</td>\n",
       "    </tr>\n",
       "    <tr>\n",
       "      <th>freq</th>\n",
       "      <td>1</td>\n",
       "      <td>20083</td>\n",
       "      <td>9863</td>\n",
       "      <td>8157</td>\n",
       "    </tr>\n",
       "  </tbody>\n",
       "</table>\n",
       "</div>"
      ],
      "text/plain": [
       "              cust ma_fem_dv   ages zon_hlv\n",
       "count        29913     29913  29913   29913\n",
       "unique       29913         2      6      17\n",
       "top     M000034966        여성    40대     Z10\n",
       "freq             1     20083   9863    8157"
      ]
     },
     "execution_count": 4,
     "metadata": {},
     "output_type": "execute_result"
    }
   ],
   "source": [
    "DEMO.describe()"
   ]
  },
  {
   "cell_type": "code",
   "execution_count": 5,
   "id": "5ac93054",
   "metadata": {},
   "outputs": [
    {
     "data": {
      "text/plain": [
       "cust         20083\n",
       "ma_fem_dv    20083\n",
       "ages         20083\n",
       "zon_hlv      20083\n",
       "dtype: int64"
      ]
     },
     "execution_count": 5,
     "metadata": {},
     "output_type": "execute_result"
    }
   ],
   "source": [
    "DEMO[DEMO['ma_fem_dv']=='여성'].count()"
   ]
  },
  {
   "cell_type": "code",
   "execution_count": 6,
   "id": "ba6b08e1",
   "metadata": {
    "scrolled": true
   },
   "outputs": [],
   "source": [
    "DEMO.drop(columns=['cust'],inplace=True)"
   ]
  },
  {
   "cell_type": "code",
   "execution_count": 7,
   "id": "a0d58023",
   "metadata": {},
   "outputs": [
    {
     "data": {
      "text/plain": [
       "ma_fem_dv    0\n",
       "ages         0\n",
       "zon_hlv      0\n",
       "dtype: int64"
      ]
     },
     "execution_count": 7,
     "metadata": {},
     "output_type": "execute_result"
    }
   ],
   "source": [
    "DEMO.isna().sum()"
   ]
  },
  {
   "cell_type": "code",
   "execution_count": 8,
   "id": "28bdaffc",
   "metadata": {
    "scrolled": true
   },
   "outputs": [
    {
     "data": {
      "text/plain": [
       "zon_hlv\n",
       "Z01     474\n",
       "Z02     103\n",
       "Z03     600\n",
       "Z04    1750\n",
       "Z05     576\n",
       "Z06    1080\n",
       "Z07     204\n",
       "Z08     739\n",
       "Z09     642\n",
       "Z10    8157\n",
       "Z11    1840\n",
       "Z12     803\n",
       "Z13     896\n",
       "Z14     988\n",
       "Z15     677\n",
       "Z16    2503\n",
       "Z17    7881\n",
       "Name: ages, dtype: int64"
      ]
     },
     "execution_count": 8,
     "metadata": {},
     "output_type": "execute_result"
    }
   ],
   "source": [
    "DEMO.groupby('zon_hlv')['ages'].count()"
   ]
  },
  {
   "cell_type": "code",
   "execution_count": 9,
   "id": "cc945179",
   "metadata": {
    "scrolled": true
   },
   "outputs": [
    {
     "data": {
      "text/plain": [
       "ages\n",
       "20대    3853\n",
       "30대    7736\n",
       "40대    9863\n",
       "50대    5633\n",
       "60대    2115\n",
       "70대     713\n",
       "Name: zon_hlv, dtype: int64"
      ]
     },
     "execution_count": 9,
     "metadata": {},
     "output_type": "execute_result"
    }
   ],
   "source": [
    "DEMO.groupby('ages')['zon_hlv'].count()"
   ]
  },
  {
   "cell_type": "markdown",
   "id": "5d3a3e9c",
   "metadata": {},
   "source": [
    "# 2. 상품구매 정보"
   ]
  },
  {
   "cell_type": "code",
   "execution_count": 10,
   "id": "1b8b2413",
   "metadata": {},
   "outputs": [
    {
     "data": {
      "text/html": [
       "<div>\n",
       "<style scoped>\n",
       "    .dataframe tbody tr th:only-of-type {\n",
       "        vertical-align: middle;\n",
       "    }\n",
       "\n",
       "    .dataframe tbody tr th {\n",
       "        vertical-align: top;\n",
       "    }\n",
       "\n",
       "    .dataframe thead th {\n",
       "        text-align: right;\n",
       "    }\n",
       "</style>\n",
       "<table border=\"1\" class=\"dataframe\">\n",
       "  <thead>\n",
       "    <tr style=\"text-align: right;\">\n",
       "      <th></th>\n",
       "      <th>cust</th>\n",
       "      <th>rct_no</th>\n",
       "      <th>chnl_dv</th>\n",
       "      <th>cop_c</th>\n",
       "      <th>br_c</th>\n",
       "      <th>pd_c</th>\n",
       "      <th>de_dt</th>\n",
       "      <th>de_hr</th>\n",
       "      <th>buy_am</th>\n",
       "      <th>buy_ct</th>\n",
       "    </tr>\n",
       "  </thead>\n",
       "  <tbody>\n",
       "    <tr>\n",
       "      <th>0</th>\n",
       "      <td>M430112881</td>\n",
       "      <td>A01000001113</td>\n",
       "      <td>1</td>\n",
       "      <td>A01</td>\n",
       "      <td>A010039</td>\n",
       "      <td>PD0290</td>\n",
       "      <td>20210101</td>\n",
       "      <td>10</td>\n",
       "      <td>15000.0</td>\n",
       "      <td>1</td>\n",
       "    </tr>\n",
       "    <tr>\n",
       "      <th>1</th>\n",
       "      <td>M646853852</td>\n",
       "      <td>A01000002265</td>\n",
       "      <td>1</td>\n",
       "      <td>A01</td>\n",
       "      <td>A010025</td>\n",
       "      <td>PD1369</td>\n",
       "      <td>20210101</td>\n",
       "      <td>10</td>\n",
       "      <td>79700.0</td>\n",
       "      <td>1</td>\n",
       "    </tr>\n",
       "    <tr>\n",
       "      <th>2</th>\n",
       "      <td>M430112881</td>\n",
       "      <td>A01000003148</td>\n",
       "      <td>1</td>\n",
       "      <td>A01</td>\n",
       "      <td>A010039</td>\n",
       "      <td>PD0290</td>\n",
       "      <td>20210101</td>\n",
       "      <td>10</td>\n",
       "      <td>19000.0</td>\n",
       "      <td>1</td>\n",
       "    </tr>\n",
       "    <tr>\n",
       "      <th>3</th>\n",
       "      <td>M430112881</td>\n",
       "      <td>A01000003148</td>\n",
       "      <td>1</td>\n",
       "      <td>A01</td>\n",
       "      <td>A010039</td>\n",
       "      <td>PD0290</td>\n",
       "      <td>20210101</td>\n",
       "      <td>10</td>\n",
       "      <td>19000.0</td>\n",
       "      <td>1</td>\n",
       "    </tr>\n",
       "    <tr>\n",
       "      <th>4</th>\n",
       "      <td>M430112881</td>\n",
       "      <td>A01000004946</td>\n",
       "      <td>1</td>\n",
       "      <td>A01</td>\n",
       "      <td>A010039</td>\n",
       "      <td>PD0290</td>\n",
       "      <td>20210101</td>\n",
       "      <td>10</td>\n",
       "      <td>19000.0</td>\n",
       "      <td>1</td>\n",
       "    </tr>\n",
       "  </tbody>\n",
       "</table>\n",
       "</div>"
      ],
      "text/plain": [
       "         cust        rct_no  chnl_dv cop_c     br_c    pd_c     de_dt  de_hr  \\\n",
       "0  M430112881  A01000001113        1   A01  A010039  PD0290  20210101     10   \n",
       "1  M646853852  A01000002265        1   A01  A010025  PD1369  20210101     10   \n",
       "2  M430112881  A01000003148        1   A01  A010039  PD0290  20210101     10   \n",
       "3  M430112881  A01000003148        1   A01  A010039  PD0290  20210101     10   \n",
       "4  M430112881  A01000004946        1   A01  A010039  PD0290  20210101     10   \n",
       "\n",
       "    buy_am  buy_ct  \n",
       "0  15000.0       1  \n",
       "1  79700.0       1  \n",
       "2  19000.0       1  \n",
       "3  19000.0       1  \n",
       "4  19000.0       1  "
      ]
     },
     "execution_count": 10,
     "metadata": {},
     "output_type": "execute_result"
    }
   ],
   "source": [
    "PDDE.head()"
   ]
  },
  {
   "cell_type": "code",
   "execution_count": 11,
   "id": "06e1dedd",
   "metadata": {},
   "outputs": [],
   "source": [
    "PDDE.drop(columns=['cust','rct_no','cop_c'],inplace=True)"
   ]
  },
  {
   "cell_type": "code",
   "execution_count": 12,
   "id": "92f17be6",
   "metadata": {},
   "outputs": [
    {
     "data": {
      "text/plain": [
       "chnl_dv         0\n",
       "br_c       428501\n",
       "pd_c            0\n",
       "de_dt           0\n",
       "de_hr           0\n",
       "buy_am          0\n",
       "buy_ct          0\n",
       "dtype: int64"
      ]
     },
     "execution_count": 12,
     "metadata": {},
     "output_type": "execute_result"
    }
   ],
   "source": [
    "PDDE.isna().sum()"
   ]
  },
  {
   "cell_type": "code",
   "execution_count": 13,
   "id": "418bec44",
   "metadata": {},
   "outputs": [
    {
     "data": {
      "text/html": [
       "<div>\n",
       "<style scoped>\n",
       "    .dataframe tbody tr th:only-of-type {\n",
       "        vertical-align: middle;\n",
       "    }\n",
       "\n",
       "    .dataframe tbody tr th {\n",
       "        vertical-align: top;\n",
       "    }\n",
       "\n",
       "    .dataframe thead th {\n",
       "        text-align: right;\n",
       "    }\n",
       "</style>\n",
       "<table border=\"1\" class=\"dataframe\">\n",
       "  <thead>\n",
       "    <tr style=\"text-align: right;\">\n",
       "      <th></th>\n",
       "      <th>chnl_dv</th>\n",
       "      <th>br_c</th>\n",
       "      <th>pd_c</th>\n",
       "      <th>de_dt</th>\n",
       "      <th>de_hr</th>\n",
       "      <th>buy_am</th>\n",
       "      <th>buy_ct</th>\n",
       "    </tr>\n",
       "  </thead>\n",
       "  <tbody>\n",
       "    <tr>\n",
       "      <th>0</th>\n",
       "      <td>1</td>\n",
       "      <td>A010039</td>\n",
       "      <td>PD0290</td>\n",
       "      <td>20210101</td>\n",
       "      <td>10</td>\n",
       "      <td>15000.0</td>\n",
       "      <td>1</td>\n",
       "    </tr>\n",
       "    <tr>\n",
       "      <th>1</th>\n",
       "      <td>1</td>\n",
       "      <td>A010025</td>\n",
       "      <td>PD1369</td>\n",
       "      <td>20210101</td>\n",
       "      <td>10</td>\n",
       "      <td>79700.0</td>\n",
       "      <td>1</td>\n",
       "    </tr>\n",
       "    <tr>\n",
       "      <th>2</th>\n",
       "      <td>1</td>\n",
       "      <td>A010039</td>\n",
       "      <td>PD0290</td>\n",
       "      <td>20210101</td>\n",
       "      <td>10</td>\n",
       "      <td>19000.0</td>\n",
       "      <td>1</td>\n",
       "    </tr>\n",
       "    <tr>\n",
       "      <th>3</th>\n",
       "      <td>1</td>\n",
       "      <td>A010039</td>\n",
       "      <td>PD0290</td>\n",
       "      <td>20210101</td>\n",
       "      <td>10</td>\n",
       "      <td>19000.0</td>\n",
       "      <td>1</td>\n",
       "    </tr>\n",
       "    <tr>\n",
       "      <th>4</th>\n",
       "      <td>1</td>\n",
       "      <td>A010039</td>\n",
       "      <td>PD0290</td>\n",
       "      <td>20210101</td>\n",
       "      <td>10</td>\n",
       "      <td>19000.0</td>\n",
       "      <td>1</td>\n",
       "    </tr>\n",
       "    <tr>\n",
       "      <th>...</th>\n",
       "      <td>...</td>\n",
       "      <td>...</td>\n",
       "      <td>...</td>\n",
       "      <td>...</td>\n",
       "      <td>...</td>\n",
       "      <td>...</td>\n",
       "      <td>...</td>\n",
       "    </tr>\n",
       "    <tr>\n",
       "      <th>4305574</th>\n",
       "      <td>1</td>\n",
       "      <td>A050133</td>\n",
       "      <td>PD0418</td>\n",
       "      <td>20211231</td>\n",
       "      <td>17</td>\n",
       "      <td>139000.0</td>\n",
       "      <td>1</td>\n",
       "    </tr>\n",
       "    <tr>\n",
       "      <th>4305575</th>\n",
       "      <td>1</td>\n",
       "      <td>A050318</td>\n",
       "      <td>PD1670</td>\n",
       "      <td>20211231</td>\n",
       "      <td>19</td>\n",
       "      <td>9900.0</td>\n",
       "      <td>1</td>\n",
       "    </tr>\n",
       "    <tr>\n",
       "      <th>4305576</th>\n",
       "      <td>1</td>\n",
       "      <td>A050436</td>\n",
       "      <td>PD1677</td>\n",
       "      <td>20211231</td>\n",
       "      <td>17</td>\n",
       "      <td>9400.0</td>\n",
       "      <td>1</td>\n",
       "    </tr>\n",
       "    <tr>\n",
       "      <th>4305577</th>\n",
       "      <td>1</td>\n",
       "      <td>A050039</td>\n",
       "      <td>PD1645</td>\n",
       "      <td>20211231</td>\n",
       "      <td>17</td>\n",
       "      <td>7900.0</td>\n",
       "      <td>1</td>\n",
       "    </tr>\n",
       "    <tr>\n",
       "      <th>4305578</th>\n",
       "      <td>1</td>\n",
       "      <td>A050041</td>\n",
       "      <td>PD0418</td>\n",
       "      <td>20211231</td>\n",
       "      <td>19</td>\n",
       "      <td>139000.0</td>\n",
       "      <td>1</td>\n",
       "    </tr>\n",
       "  </tbody>\n",
       "</table>\n",
       "<p>3953242 rows × 7 columns</p>\n",
       "</div>"
      ],
      "text/plain": [
       "         chnl_dv     br_c    pd_c     de_dt  de_hr    buy_am  buy_ct\n",
       "0              1  A010039  PD0290  20210101     10   15000.0       1\n",
       "1              1  A010025  PD1369  20210101     10   79700.0       1\n",
       "2              1  A010039  PD0290  20210101     10   19000.0       1\n",
       "3              1  A010039  PD0290  20210101     10   19000.0       1\n",
       "4              1  A010039  PD0290  20210101     10   19000.0       1\n",
       "...          ...      ...     ...       ...    ...       ...     ...\n",
       "4305574        1  A050133  PD0418  20211231     17  139000.0       1\n",
       "4305575        1  A050318  PD1670  20211231     19    9900.0       1\n",
       "4305576        1  A050436  PD1677  20211231     17    9400.0       1\n",
       "4305577        1  A050039  PD1645  20211231     17    7900.0       1\n",
       "4305578        1  A050041  PD0418  20211231     19  139000.0       1\n",
       "\n",
       "[3953242 rows x 7 columns]"
      ]
     },
     "execution_count": 13,
     "metadata": {},
     "output_type": "execute_result"
    }
   ],
   "source": [
    "PDDE.dropna()"
   ]
  },
  {
   "cell_type": "code",
   "execution_count": 14,
   "id": "f3693a49",
   "metadata": {},
   "outputs": [
    {
     "data": {
      "text/plain": [
       "array([1, 2], dtype=int64)"
      ]
     },
     "execution_count": 14,
     "metadata": {},
     "output_type": "execute_result"
    }
   ],
   "source": [
    "PDDE['chnl_dv'].unique()"
   ]
  },
  {
   "cell_type": "code",
   "execution_count": 15,
   "id": "1054d473",
   "metadata": {},
   "outputs": [
    {
     "data": {
      "text/plain": [
       "dtype('int64')"
      ]
     },
     "execution_count": 15,
     "metadata": {},
     "output_type": "execute_result"
    }
   ],
   "source": [
    "PDDE['de_dt'].dtype"
   ]
  },
  {
   "cell_type": "code",
   "execution_count": 16,
   "id": "ec2a0770",
   "metadata": {},
   "outputs": [],
   "source": [
    "PDDE['data_time']=PDDE['de_dt'].astype('str')\n",
    "PDDE['data_time'] = pd.to_datetime(PDDE['data_time'])"
   ]
  },
  {
   "cell_type": "code",
   "execution_count": 17,
   "id": "cd63e30b",
   "metadata": {},
   "outputs": [],
   "source": [
    "PDDE['weekday']=PDDE['data_time'].dt.weekday\n",
    "PDDE['month']=PDDE['data_time'].dt.month"
   ]
  },
  {
   "cell_type": "code",
   "execution_count": 18,
   "id": "52c4f02a",
   "metadata": {},
   "outputs": [
    {
     "data": {
      "text/html": [
       "<div>\n",
       "<style scoped>\n",
       "    .dataframe tbody tr th:only-of-type {\n",
       "        vertical-align: middle;\n",
       "    }\n",
       "\n",
       "    .dataframe tbody tr th {\n",
       "        vertical-align: top;\n",
       "    }\n",
       "\n",
       "    .dataframe thead th {\n",
       "        text-align: right;\n",
       "    }\n",
       "</style>\n",
       "<table border=\"1\" class=\"dataframe\">\n",
       "  <thead>\n",
       "    <tr style=\"text-align: right;\">\n",
       "      <th></th>\n",
       "      <th>chnl_dv</th>\n",
       "      <th>br_c</th>\n",
       "      <th>pd_c</th>\n",
       "      <th>de_dt</th>\n",
       "      <th>de_hr</th>\n",
       "      <th>buy_am</th>\n",
       "      <th>buy_ct</th>\n",
       "      <th>data_time</th>\n",
       "      <th>weekday</th>\n",
       "      <th>month</th>\n",
       "    </tr>\n",
       "  </thead>\n",
       "  <tbody>\n",
       "    <tr>\n",
       "      <th>0</th>\n",
       "      <td>1</td>\n",
       "      <td>A010039</td>\n",
       "      <td>PD0290</td>\n",
       "      <td>20210101</td>\n",
       "      <td>10</td>\n",
       "      <td>15000.0</td>\n",
       "      <td>1</td>\n",
       "      <td>2021-01-01</td>\n",
       "      <td>4</td>\n",
       "      <td>1</td>\n",
       "    </tr>\n",
       "    <tr>\n",
       "      <th>1</th>\n",
       "      <td>1</td>\n",
       "      <td>A010025</td>\n",
       "      <td>PD1369</td>\n",
       "      <td>20210101</td>\n",
       "      <td>10</td>\n",
       "      <td>79700.0</td>\n",
       "      <td>1</td>\n",
       "      <td>2021-01-01</td>\n",
       "      <td>4</td>\n",
       "      <td>1</td>\n",
       "    </tr>\n",
       "    <tr>\n",
       "      <th>2</th>\n",
       "      <td>1</td>\n",
       "      <td>A010039</td>\n",
       "      <td>PD0290</td>\n",
       "      <td>20210101</td>\n",
       "      <td>10</td>\n",
       "      <td>19000.0</td>\n",
       "      <td>1</td>\n",
       "      <td>2021-01-01</td>\n",
       "      <td>4</td>\n",
       "      <td>1</td>\n",
       "    </tr>\n",
       "    <tr>\n",
       "      <th>3</th>\n",
       "      <td>1</td>\n",
       "      <td>A010039</td>\n",
       "      <td>PD0290</td>\n",
       "      <td>20210101</td>\n",
       "      <td>10</td>\n",
       "      <td>19000.0</td>\n",
       "      <td>1</td>\n",
       "      <td>2021-01-01</td>\n",
       "      <td>4</td>\n",
       "      <td>1</td>\n",
       "    </tr>\n",
       "    <tr>\n",
       "      <th>4</th>\n",
       "      <td>1</td>\n",
       "      <td>A010039</td>\n",
       "      <td>PD0290</td>\n",
       "      <td>20210101</td>\n",
       "      <td>10</td>\n",
       "      <td>19000.0</td>\n",
       "      <td>1</td>\n",
       "      <td>2021-01-01</td>\n",
       "      <td>4</td>\n",
       "      <td>1</td>\n",
       "    </tr>\n",
       "  </tbody>\n",
       "</table>\n",
       "</div>"
      ],
      "text/plain": [
       "   chnl_dv     br_c    pd_c     de_dt  de_hr   buy_am  buy_ct  data_time  \\\n",
       "0        1  A010039  PD0290  20210101     10  15000.0       1 2021-01-01   \n",
       "1        1  A010025  PD1369  20210101     10  79700.0       1 2021-01-01   \n",
       "2        1  A010039  PD0290  20210101     10  19000.0       1 2021-01-01   \n",
       "3        1  A010039  PD0290  20210101     10  19000.0       1 2021-01-01   \n",
       "4        1  A010039  PD0290  20210101     10  19000.0       1 2021-01-01   \n",
       "\n",
       "   weekday  month  \n",
       "0        4      1  \n",
       "1        4      1  \n",
       "2        4      1  \n",
       "3        4      1  \n",
       "4        4      1  "
      ]
     },
     "execution_count": 18,
     "metadata": {},
     "output_type": "execute_result"
    }
   ],
   "source": [
    "PDDE.head()"
   ]
  },
  {
   "cell_type": "code",
   "execution_count": 79,
   "id": "90c9da4c",
   "metadata": {
    "scrolled": true
   },
   "outputs": [
    {
     "ename": "KeyError",
     "evalue": "'weekday'",
     "output_type": "error",
     "traceback": [
      "\u001b[1;31m---------------------------------------------------------------------------\u001b[0m",
      "\u001b[1;31mKeyError\u001b[0m                                  Traceback (most recent call last)",
      "\u001b[1;32m~\\anaconda3\\lib\\site-packages\\pandas\\core\\indexes\\base.py\u001b[0m in \u001b[0;36mget_loc\u001b[1;34m(self, key, method, tolerance)\u001b[0m\n\u001b[0;32m   3360\u001b[0m             \u001b[1;32mtry\u001b[0m\u001b[1;33m:\u001b[0m\u001b[1;33m\u001b[0m\u001b[1;33m\u001b[0m\u001b[0m\n\u001b[1;32m-> 3361\u001b[1;33m                 \u001b[1;32mreturn\u001b[0m \u001b[0mself\u001b[0m\u001b[1;33m.\u001b[0m\u001b[0m_engine\u001b[0m\u001b[1;33m.\u001b[0m\u001b[0mget_loc\u001b[0m\u001b[1;33m(\u001b[0m\u001b[0mcasted_key\u001b[0m\u001b[1;33m)\u001b[0m\u001b[1;33m\u001b[0m\u001b[1;33m\u001b[0m\u001b[0m\n\u001b[0m\u001b[0;32m   3362\u001b[0m             \u001b[1;32mexcept\u001b[0m \u001b[0mKeyError\u001b[0m \u001b[1;32mas\u001b[0m \u001b[0merr\u001b[0m\u001b[1;33m:\u001b[0m\u001b[1;33m\u001b[0m\u001b[1;33m\u001b[0m\u001b[0m\n",
      "\u001b[1;32m~\\anaconda3\\lib\\site-packages\\pandas\\_libs\\index.pyx\u001b[0m in \u001b[0;36mpandas._libs.index.IndexEngine.get_loc\u001b[1;34m()\u001b[0m\n",
      "\u001b[1;32m~\\anaconda3\\lib\\site-packages\\pandas\\_libs\\index.pyx\u001b[0m in \u001b[0;36mpandas._libs.index.IndexEngine.get_loc\u001b[1;34m()\u001b[0m\n",
      "\u001b[1;32mpandas\\_libs\\hashtable_class_helper.pxi\u001b[0m in \u001b[0;36mpandas._libs.hashtable.PyObjectHashTable.get_item\u001b[1;34m()\u001b[0m\n",
      "\u001b[1;32mpandas\\_libs\\hashtable_class_helper.pxi\u001b[0m in \u001b[0;36mpandas._libs.hashtable.PyObjectHashTable.get_item\u001b[1;34m()\u001b[0m\n",
      "\u001b[1;31mKeyError\u001b[0m: 'weekday'",
      "\nThe above exception was the direct cause of the following exception:\n",
      "\u001b[1;31mKeyError\u001b[0m                                  Traceback (most recent call last)",
      "\u001b[1;32m~\\AppData\\Local\\Temp/ipykernel_16912/60224161.py\u001b[0m in \u001b[0;36m<module>\u001b[1;34m\u001b[0m\n\u001b[0;32m      1\u001b[0m \u001b[0msns\u001b[0m\u001b[1;33m.\u001b[0m\u001b[0mset_palette\u001b[0m\u001b[1;33m(\u001b[0m\u001b[1;34m\"pastel\"\u001b[0m\u001b[1;33m)\u001b[0m\u001b[1;33m\u001b[0m\u001b[1;33m\u001b[0m\u001b[0m\n\u001b[1;32m----> 2\u001b[1;33m \u001b[0msns\u001b[0m\u001b[1;33m.\u001b[0m\u001b[0mcountplot\u001b[0m\u001b[1;33m(\u001b[0m\u001b[0mx\u001b[0m\u001b[1;33m=\u001b[0m\u001b[0mPDDE\u001b[0m\u001b[1;33m[\u001b[0m\u001b[1;34m'weekday'\u001b[0m\u001b[1;33m]\u001b[0m\u001b[1;33m)\u001b[0m\u001b[1;33m\u001b[0m\u001b[1;33m\u001b[0m\u001b[0m\n\u001b[0m",
      "\u001b[1;32m~\\anaconda3\\lib\\site-packages\\pandas\\core\\frame.py\u001b[0m in \u001b[0;36m__getitem__\u001b[1;34m(self, key)\u001b[0m\n\u001b[0;32m   3456\u001b[0m             \u001b[1;32mif\u001b[0m \u001b[0mself\u001b[0m\u001b[1;33m.\u001b[0m\u001b[0mcolumns\u001b[0m\u001b[1;33m.\u001b[0m\u001b[0mnlevels\u001b[0m \u001b[1;33m>\u001b[0m \u001b[1;36m1\u001b[0m\u001b[1;33m:\u001b[0m\u001b[1;33m\u001b[0m\u001b[1;33m\u001b[0m\u001b[0m\n\u001b[0;32m   3457\u001b[0m                 \u001b[1;32mreturn\u001b[0m \u001b[0mself\u001b[0m\u001b[1;33m.\u001b[0m\u001b[0m_getitem_multilevel\u001b[0m\u001b[1;33m(\u001b[0m\u001b[0mkey\u001b[0m\u001b[1;33m)\u001b[0m\u001b[1;33m\u001b[0m\u001b[1;33m\u001b[0m\u001b[0m\n\u001b[1;32m-> 3458\u001b[1;33m             \u001b[0mindexer\u001b[0m \u001b[1;33m=\u001b[0m \u001b[0mself\u001b[0m\u001b[1;33m.\u001b[0m\u001b[0mcolumns\u001b[0m\u001b[1;33m.\u001b[0m\u001b[0mget_loc\u001b[0m\u001b[1;33m(\u001b[0m\u001b[0mkey\u001b[0m\u001b[1;33m)\u001b[0m\u001b[1;33m\u001b[0m\u001b[1;33m\u001b[0m\u001b[0m\n\u001b[0m\u001b[0;32m   3459\u001b[0m             \u001b[1;32mif\u001b[0m \u001b[0mis_integer\u001b[0m\u001b[1;33m(\u001b[0m\u001b[0mindexer\u001b[0m\u001b[1;33m)\u001b[0m\u001b[1;33m:\u001b[0m\u001b[1;33m\u001b[0m\u001b[1;33m\u001b[0m\u001b[0m\n\u001b[0;32m   3460\u001b[0m                 \u001b[0mindexer\u001b[0m \u001b[1;33m=\u001b[0m \u001b[1;33m[\u001b[0m\u001b[0mindexer\u001b[0m\u001b[1;33m]\u001b[0m\u001b[1;33m\u001b[0m\u001b[1;33m\u001b[0m\u001b[0m\n",
      "\u001b[1;32m~\\anaconda3\\lib\\site-packages\\pandas\\core\\indexes\\base.py\u001b[0m in \u001b[0;36mget_loc\u001b[1;34m(self, key, method, tolerance)\u001b[0m\n\u001b[0;32m   3361\u001b[0m                 \u001b[1;32mreturn\u001b[0m \u001b[0mself\u001b[0m\u001b[1;33m.\u001b[0m\u001b[0m_engine\u001b[0m\u001b[1;33m.\u001b[0m\u001b[0mget_loc\u001b[0m\u001b[1;33m(\u001b[0m\u001b[0mcasted_key\u001b[0m\u001b[1;33m)\u001b[0m\u001b[1;33m\u001b[0m\u001b[1;33m\u001b[0m\u001b[0m\n\u001b[0;32m   3362\u001b[0m             \u001b[1;32mexcept\u001b[0m \u001b[0mKeyError\u001b[0m \u001b[1;32mas\u001b[0m \u001b[0merr\u001b[0m\u001b[1;33m:\u001b[0m\u001b[1;33m\u001b[0m\u001b[1;33m\u001b[0m\u001b[0m\n\u001b[1;32m-> 3363\u001b[1;33m                 \u001b[1;32mraise\u001b[0m \u001b[0mKeyError\u001b[0m\u001b[1;33m(\u001b[0m\u001b[0mkey\u001b[0m\u001b[1;33m)\u001b[0m \u001b[1;32mfrom\u001b[0m \u001b[0merr\u001b[0m\u001b[1;33m\u001b[0m\u001b[1;33m\u001b[0m\u001b[0m\n\u001b[0m\u001b[0;32m   3364\u001b[0m \u001b[1;33m\u001b[0m\u001b[0m\n\u001b[0;32m   3365\u001b[0m         \u001b[1;32mif\u001b[0m \u001b[0mis_scalar\u001b[0m\u001b[1;33m(\u001b[0m\u001b[0mkey\u001b[0m\u001b[1;33m)\u001b[0m \u001b[1;32mand\u001b[0m \u001b[0misna\u001b[0m\u001b[1;33m(\u001b[0m\u001b[0mkey\u001b[0m\u001b[1;33m)\u001b[0m \u001b[1;32mand\u001b[0m \u001b[1;32mnot\u001b[0m \u001b[0mself\u001b[0m\u001b[1;33m.\u001b[0m\u001b[0mhasnans\u001b[0m\u001b[1;33m:\u001b[0m\u001b[1;33m\u001b[0m\u001b[1;33m\u001b[0m\u001b[0m\n",
      "\u001b[1;31mKeyError\u001b[0m: 'weekday'"
     ]
    }
   ],
   "source": [
    "sns.set_palette(\"pastel\")\n",
    "sns.countplot(x=PDDE['weekday'])"
   ]
  },
  {
   "cell_type": "code",
   "execution_count": 20,
   "id": "b5ea02df",
   "metadata": {},
   "outputs": [
    {
     "data": {
      "text/plain": [
       "<AxesSubplot:xlabel='month', ylabel='count'>"
      ]
     },
     "execution_count": 20,
     "metadata": {},
     "output_type": "execute_result"
    },
    {
     "data": {
      "image/png": "[encoded data removed]",
      "text/plain": [
       "<Figure size 432x288 with 1 Axes>"
      ]
     },
     "metadata": {
      "needs_background": "light"
     },
     "output_type": "display_data"
    }
   ],
   "source": [
    "sns.countplot(x=PDDE['month'])"
   ]
  },
  {
   "cell_type": "code",
   "execution_count": 21,
   "id": "ed8c329d",
   "metadata": {},
   "outputs": [
    {
     "data": {
      "text/plain": [
       "<AxesSubplot:xlabel='de_hr', ylabel='count'>"
      ]
     },
     "execution_count": 21,
     "metadata": {},
     "output_type": "execute_result"
    },
    {
     "data": {
      "image/png": "[encoded data removed]",
      "text/plain": [
       "<Figure size 432x288 with 1 Axes>"
      ]
     },
     "metadata": {
      "needs_background": "light"
     },
     "output_type": "display_data"
    }
   ],
   "source": [
    "sns.countplot(x=PDDE['de_hr'])"
   ]
  },
  {
   "cell_type": "code",
   "execution_count": 78,
   "id": "fcdb1581",
   "metadata": {
    "scrolled": true
   },
   "outputs": [
    {
     "data": {
      "text/plain": [
       "<AxesSubplot:xlabel='chnl_dv', ylabel='count'>"
      ]
     },
     "execution_count": 78,
     "metadata": {},
     "output_type": "execute_result"
    },
    {
     "data": {
      "image/png": "[encoded data removed]",
      "text/plain": [
       "<Figure size 432x288 with 1 Axes>"
      ]
     },
     "metadata": {
      "needs_background": "light"
     },
     "output_type": "display_data"
    }
   ],
   "source": [
    "sns.set_palette(\"pastel\")\n",
    "sns.countplot(x=PDDE['chnl_dv'],)"
   ]
  },
  {
   "cell_type": "markdown",
   "id": "3ed5e944",
   "metadata": {},
   "source": [
    "# 3. 제휴사 이용정보"
   ]
  },
  {
   "cell_type": "code",
   "execution_count": 26,
   "id": "474e08ee",
   "metadata": {},
   "outputs": [
    {
     "data": {
      "text/html": [
       "<div>\n",
       "<style scoped>\n",
       "    .dataframe tbody tr th:only-of-type {\n",
       "        vertical-align: middle;\n",
       "    }\n",
       "\n",
       "    .dataframe tbody tr th {\n",
       "        vertical-align: top;\n",
       "    }\n",
       "\n",
       "    .dataframe thead th {\n",
       "        text-align: right;\n",
       "    }\n",
       "</style>\n",
       "<table border=\"1\" class=\"dataframe\">\n",
       "  <thead>\n",
       "    <tr style=\"text-align: right;\">\n",
       "      <th></th>\n",
       "      <th>cust</th>\n",
       "      <th>rct_no</th>\n",
       "      <th>cop_c</th>\n",
       "      <th>br_c</th>\n",
       "      <th>chnl_dv</th>\n",
       "      <th>de_dt</th>\n",
       "      <th>vst_dt</th>\n",
       "      <th>de_hr</th>\n",
       "      <th>buy_am</th>\n",
       "    </tr>\n",
       "  </thead>\n",
       "  <tbody>\n",
       "    <tr>\n",
       "      <th>0</th>\n",
       "      <td>M839993508</td>\n",
       "      <td>21102612B015763935</td>\n",
       "      <td>B01</td>\n",
       "      <td>B010012</td>\n",
       "      <td>1</td>\n",
       "      <td>20211026</td>\n",
       "      <td>20211026</td>\n",
       "      <td>12</td>\n",
       "      <td>60000</td>\n",
       "    </tr>\n",
       "    <tr>\n",
       "      <th>1</th>\n",
       "      <td>M839993508</td>\n",
       "      <td>21110610B014219744</td>\n",
       "      <td>B01</td>\n",
       "      <td>B010012</td>\n",
       "      <td>1</td>\n",
       "      <td>20211106</td>\n",
       "      <td>20211106</td>\n",
       "      <td>10</td>\n",
       "      <td>17100</td>\n",
       "    </tr>\n",
       "    <tr>\n",
       "      <th>2</th>\n",
       "      <td>M839993508</td>\n",
       "      <td>21021112B013419710</td>\n",
       "      <td>B01</td>\n",
       "      <td>B010012</td>\n",
       "      <td>1</td>\n",
       "      <td>20210211</td>\n",
       "      <td>20210211</td>\n",
       "      <td>12</td>\n",
       "      <td>136500</td>\n",
       "    </tr>\n",
       "    <tr>\n",
       "      <th>3</th>\n",
       "      <td>M839993508</td>\n",
       "      <td>21092010B012637545</td>\n",
       "      <td>B01</td>\n",
       "      <td>B010012</td>\n",
       "      <td>1</td>\n",
       "      <td>20210920</td>\n",
       "      <td>20210920</td>\n",
       "      <td>10</td>\n",
       "      <td>34200</td>\n",
       "    </tr>\n",
       "    <tr>\n",
       "      <th>4</th>\n",
       "      <td>M839993508</td>\n",
       "      <td>21101009D015920171</td>\n",
       "      <td>D01</td>\n",
       "      <td>D010614</td>\n",
       "      <td>1</td>\n",
       "      <td>20211010</td>\n",
       "      <td>20211010</td>\n",
       "      <td>9</td>\n",
       "      <td>2500</td>\n",
       "    </tr>\n",
       "  </tbody>\n",
       "</table>\n",
       "</div>"
      ],
      "text/plain": [
       "         cust              rct_no cop_c     br_c  chnl_dv     de_dt    vst_dt  \\\n",
       "0  M839993508  21102612B015763935   B01  B010012        1  20211026  20211026   \n",
       "1  M839993508  21110610B014219744   B01  B010012        1  20211106  20211106   \n",
       "2  M839993508  21021112B013419710   B01  B010012        1  20210211  20210211   \n",
       "3  M839993508  21092010B012637545   B01  B010012        1  20210920  20210920   \n",
       "4  M839993508  21101009D015920171   D01  D010614        1  20211010  20211010   \n",
       "\n",
       "   de_hr  buy_am  \n",
       "0     12   60000  \n",
       "1     10   17100  \n",
       "2     12  136500  \n",
       "3     10   34200  \n",
       "4      9    2500  "
      ]
     },
     "execution_count": 26,
     "metadata": {},
     "output_type": "execute_result"
    }
   ],
   "source": [
    "COP_U.head()"
   ]
  },
  {
   "cell_type": "code",
   "execution_count": 27,
   "id": "976c7e8e",
   "metadata": {},
   "outputs": [],
   "source": [
    "COP_U.drop(columns=['cust','rct_no'],inplace=True)"
   ]
  },
  {
   "cell_type": "code",
   "execution_count": 28,
   "id": "5302c1aa",
   "metadata": {},
   "outputs": [
    {
     "data": {
      "text/html": [
       "<div>\n",
       "<style scoped>\n",
       "    .dataframe tbody tr th:only-of-type {\n",
       "        vertical-align: middle;\n",
       "    }\n",
       "\n",
       "    .dataframe tbody tr th {\n",
       "        vertical-align: top;\n",
       "    }\n",
       "\n",
       "    .dataframe thead th {\n",
       "        text-align: right;\n",
       "    }\n",
       "</style>\n",
       "<table border=\"1\" class=\"dataframe\">\n",
       "  <thead>\n",
       "    <tr style=\"text-align: right;\">\n",
       "      <th></th>\n",
       "      <th>cop_c</th>\n",
       "      <th>br_c</th>\n",
       "      <th>chnl_dv</th>\n",
       "      <th>de_dt</th>\n",
       "      <th>vst_dt</th>\n",
       "      <th>de_hr</th>\n",
       "      <th>buy_am</th>\n",
       "    </tr>\n",
       "  </thead>\n",
       "  <tbody>\n",
       "    <tr>\n",
       "      <th>0</th>\n",
       "      <td>B01</td>\n",
       "      <td>B010012</td>\n",
       "      <td>1</td>\n",
       "      <td>20211026</td>\n",
       "      <td>20211026</td>\n",
       "      <td>12</td>\n",
       "      <td>60000</td>\n",
       "    </tr>\n",
       "    <tr>\n",
       "      <th>1</th>\n",
       "      <td>B01</td>\n",
       "      <td>B010012</td>\n",
       "      <td>1</td>\n",
       "      <td>20211106</td>\n",
       "      <td>20211106</td>\n",
       "      <td>10</td>\n",
       "      <td>17100</td>\n",
       "    </tr>\n",
       "    <tr>\n",
       "      <th>2</th>\n",
       "      <td>B01</td>\n",
       "      <td>B010012</td>\n",
       "      <td>1</td>\n",
       "      <td>20210211</td>\n",
       "      <td>20210211</td>\n",
       "      <td>12</td>\n",
       "      <td>136500</td>\n",
       "    </tr>\n",
       "    <tr>\n",
       "      <th>3</th>\n",
       "      <td>B01</td>\n",
       "      <td>B010012</td>\n",
       "      <td>1</td>\n",
       "      <td>20210920</td>\n",
       "      <td>20210920</td>\n",
       "      <td>10</td>\n",
       "      <td>34200</td>\n",
       "    </tr>\n",
       "    <tr>\n",
       "      <th>4</th>\n",
       "      <td>D01</td>\n",
       "      <td>D010614</td>\n",
       "      <td>1</td>\n",
       "      <td>20211010</td>\n",
       "      <td>20211010</td>\n",
       "      <td>9</td>\n",
       "      <td>2500</td>\n",
       "    </tr>\n",
       "  </tbody>\n",
       "</table>\n",
       "</div>"
      ],
      "text/plain": [
       "  cop_c     br_c  chnl_dv     de_dt    vst_dt  de_hr  buy_am\n",
       "0   B01  B010012        1  20211026  20211026     12   60000\n",
       "1   B01  B010012        1  20211106  20211106     10   17100\n",
       "2   B01  B010012        1  20210211  20210211     12  136500\n",
       "3   B01  B010012        1  20210920  20210920     10   34200\n",
       "4   D01  D010614        1  20211010  20211010      9    2500"
      ]
     },
     "execution_count": 28,
     "metadata": {},
     "output_type": "execute_result"
    }
   ],
   "source": [
    "COP_U.head()"
   ]
  },
  {
   "cell_type": "markdown",
   "id": "f6c9fe12",
   "metadata": {},
   "source": [
    "# 4. 상품 분류 정보"
   ]
  },
  {
   "cell_type": "code",
   "execution_count": 30,
   "id": "c9e49494",
   "metadata": {
    "scrolled": true
   },
   "outputs": [
    {
     "data": {
      "text/html": [
       "<div>\n",
       "<style scoped>\n",
       "    .dataframe tbody tr th:only-of-type {\n",
       "        vertical-align: middle;\n",
       "    }\n",
       "\n",
       "    .dataframe tbody tr th {\n",
       "        vertical-align: top;\n",
       "    }\n",
       "\n",
       "    .dataframe thead th {\n",
       "        text-align: right;\n",
       "    }\n",
       "</style>\n",
       "<table border=\"1\" class=\"dataframe\">\n",
       "  <thead>\n",
       "    <tr style=\"text-align: right;\">\n",
       "      <th></th>\n",
       "      <th>pd_c</th>\n",
       "      <th>pd_nm</th>\n",
       "      <th>clac_hlv_nm</th>\n",
       "      <th>clac_mcls_nm</th>\n",
       "    </tr>\n",
       "  </thead>\n",
       "  <tbody>\n",
       "    <tr>\n",
       "      <th>0</th>\n",
       "      <td>PD0001</td>\n",
       "      <td>소파</td>\n",
       "      <td>가구</td>\n",
       "      <td>거실가구</td>\n",
       "    </tr>\n",
       "    <tr>\n",
       "      <th>1</th>\n",
       "      <td>PD0002</td>\n",
       "      <td>스툴/리빙의자</td>\n",
       "      <td>가구</td>\n",
       "      <td>거실가구</td>\n",
       "    </tr>\n",
       "    <tr>\n",
       "      <th>2</th>\n",
       "      <td>PD0003</td>\n",
       "      <td>탁자</td>\n",
       "      <td>가구</td>\n",
       "      <td>거실가구</td>\n",
       "    </tr>\n",
       "    <tr>\n",
       "      <th>3</th>\n",
       "      <td>PD0004</td>\n",
       "      <td>장식장/진열장</td>\n",
       "      <td>가구</td>\n",
       "      <td>거실가구</td>\n",
       "    </tr>\n",
       "    <tr>\n",
       "      <th>4</th>\n",
       "      <td>PD0005</td>\n",
       "      <td>기타가구</td>\n",
       "      <td>가구</td>\n",
       "      <td>기타가구</td>\n",
       "    </tr>\n",
       "  </tbody>\n",
       "</table>\n",
       "</div>"
      ],
      "text/plain": [
       "     pd_c    pd_nm clac_hlv_nm clac_mcls_nm\n",
       "0  PD0001       소파          가구         거실가구\n",
       "1  PD0002  스툴/리빙의자          가구         거실가구\n",
       "2  PD0003       탁자          가구         거실가구\n",
       "3  PD0004  장식장/진열장          가구         거실가구\n",
       "4  PD0005     기타가구          가구         기타가구"
      ]
     },
     "execution_count": 30,
     "metadata": {},
     "output_type": "execute_result"
    }
   ],
   "source": [
    "PD_CLAC.head()"
   ]
  },
  {
   "cell_type": "code",
   "execution_count": 38,
   "id": "15065f3e",
   "metadata": {},
   "outputs": [
    {
     "data": {
      "text/plain": [
       "array(['가구', '건강식품', '건강용품', '건해산물', '계절가전', '공구/안전용품', '과일', '과자', '구기/필드스포츠', '금융/보험서비스', '기타(비상품)', '기타상품', '남성의류', '냉동식품', '냉장/세탁가전', '냉장식품', '담배', '대용식', '모바일', '문구/사무용품', '병통조림', '상품권', '생활/렌탈서비스', '생활/주방가전', '서적/음반/악기', '세제/위생', '속옷/양말/홈웨어', '수산물', '스포츠패션', '시즌스포츠', '식기/조리기구', '아웃도어/레저', '양곡', '여성의류', '여행/레저서비스', '영상/음향가전', '완구', '원예/애완', '유아동의류', '유아식품', '유제품', '음료', '인테리어/조명', '자동차용품', '조리식품', '조미료', '주류', '주방잡화', '채소', '청소/세탁/욕실용품', '축산물', '출산/육아용품', '침구/수예', '커피/차', '컴퓨터', '테넌트/음식점', '패션잡화', '퍼스널케어', '헬스/피트니스', '화장품/뷰티케어'], dtype=object)"
      ]
     },
     "execution_count": 38,
     "metadata": {},
     "output_type": "execute_result"
    }
   ],
   "source": [
    "category1 = PD_CLAC['clac_hlv_nm'].unique()\n",
    "category1"
   ]
  },
  {
   "cell_type": "markdown",
   "id": "a5b94772",
   "metadata": {},
   "source": [
    "#### 냉동식품 중분류와 소분류"
   ]
  },
  {
   "cell_type": "code",
   "execution_count": 47,
   "id": "9b13568f",
   "metadata": {},
   "outputs": [
    {
     "data": {
      "text/plain": [
       "array(['냉동간편식', '아이스크림'], dtype=object)"
      ]
     },
     "execution_count": 47,
     "metadata": {},
     "output_type": "execute_result"
    }
   ],
   "source": [
    "tmp = PD_CLAC.loc[PD_CLAC['clac_hlv_nm']=='냉동식품']\n",
    "category2 = tmp['clac_mcls_nm'].unique()\n",
    "category2"
   ]
  },
  {
   "cell_type": "code",
   "execution_count": 49,
   "id": "4d08d04b",
   "metadata": {},
   "outputs": [
    {
     "data": {
      "text/plain": [
       "array(['냉동밥', '냉동면', '냉동만두', '냉동피자', '냉동핫도그', '냉동튀김', '냉동부침', '냉동국탕류', '냉동디저트', '냉동떡볶이', '기타냉동간편식', '냉동간편식세트'], dtype=object)"
      ]
     },
     "execution_count": 49,
     "metadata": {},
     "output_type": "execute_result"
    }
   ],
   "source": [
    "tmp2 = PD_CLAC.loc[PD_CLAC['clac_mcls_nm']=='냉동간편식']\n",
    "category3 = tmp2['pd_nm'].unique()\n",
    "category3"
   ]
  },
  {
   "cell_type": "markdown",
   "id": "7b61384d",
   "metadata": {},
   "source": [
    "#### 냉장식품 중분류와 소분류"
   ]
  },
  {
   "cell_type": "code",
   "execution_count": 53,
   "id": "a99bab7e",
   "metadata": {},
   "outputs": [
    {
     "data": {
      "text/plain": [
       "array(['냉장간편식', '냉장음료', '디저트', '어묵/맛살', '포장반찬', '햄/소시지'], dtype=object)"
      ]
     },
     "execution_count": 53,
     "metadata": {},
     "output_type": "execute_result"
    }
   ],
   "source": [
    "tmp3 = PD_CLAC.loc[PD_CLAC['clac_hlv_nm']=='냉장식품']\n",
    "category4 = tmp3['clac_mcls_nm'].unique()\n",
    "category4"
   ]
  },
  {
   "cell_type": "code",
   "execution_count": 54,
   "id": "3b59ebc5",
   "metadata": {},
   "outputs": [
    {
     "data": {
      "text/plain": [
       "array(['냉장밥/죽', '냉장면', '냉장떡', '냉장간편떡볶이', '냉장장류', '냉장드레싱', '냉장핫도그/핫바류', '냉장치킨족발류', '냉장국탕류', '냉장안주', '기타냉장간편식', '냉장커피차음료', '냉장과일야채음료', '냉장곡물견과음료', '푸딩/젤리', '빵/케이크', '어묵', '맛살', '곤약', '유부', '김밥재료세트', '절임반찬', '김치류', '조림반찬', '볶음반찬', '무침반찬', '젓갈', '단무지', '햄', '햄선물세트', '베이컨', '소시지'], dtype=object)"
      ]
     },
     "execution_count": 54,
     "metadata": {},
     "output_type": "execute_result"
    }
   ],
   "source": [
    "category5 = tmp3['pd_nm'].unique()\n",
    "category5"
   ]
  },
  {
   "cell_type": "markdown",
   "id": "12b0f9ff",
   "metadata": {},
   "source": [
    "# 5. 점포 정보"
   ]
  },
  {
   "cell_type": "code",
   "execution_count": 56,
   "id": "50cc7d0c",
   "metadata": {},
   "outputs": [
    {
     "data": {
      "text/html": [
       "<div>\n",
       "<style scoped>\n",
       "    .dataframe tbody tr th:only-of-type {\n",
       "        vertical-align: middle;\n",
       "    }\n",
       "\n",
       "    .dataframe tbody tr th {\n",
       "        vertical-align: top;\n",
       "    }\n",
       "\n",
       "    .dataframe thead th {\n",
       "        text-align: right;\n",
       "    }\n",
       "</style>\n",
       "<table border=\"1\" class=\"dataframe\">\n",
       "  <thead>\n",
       "    <tr style=\"text-align: right;\">\n",
       "      <th></th>\n",
       "      <th>br_c</th>\n",
       "      <th>cop_c</th>\n",
       "      <th>zon_hlv</th>\n",
       "      <th>zon_mcls</th>\n",
       "    </tr>\n",
       "  </thead>\n",
       "  <tbody>\n",
       "    <tr>\n",
       "      <th>0</th>\n",
       "      <td>A010001</td>\n",
       "      <td>A01</td>\n",
       "      <td>Z17</td>\n",
       "      <td>Z17024</td>\n",
       "    </tr>\n",
       "    <tr>\n",
       "      <th>1</th>\n",
       "      <td>A010002</td>\n",
       "      <td>A01</td>\n",
       "      <td>Z17</td>\n",
       "      <td>Z17018</td>\n",
       "    </tr>\n",
       "    <tr>\n",
       "      <th>2</th>\n",
       "      <td>A010003</td>\n",
       "      <td>A01</td>\n",
       "      <td>Z17</td>\n",
       "      <td>Z17011</td>\n",
       "    </tr>\n",
       "    <tr>\n",
       "      <th>3</th>\n",
       "      <td>A010004</td>\n",
       "      <td>A01</td>\n",
       "      <td>Z16</td>\n",
       "      <td>Z16007</td>\n",
       "    </tr>\n",
       "    <tr>\n",
       "      <th>4</th>\n",
       "      <td>A010005</td>\n",
       "      <td>A01</td>\n",
       "      <td>Z17</td>\n",
       "      <td>Z17005</td>\n",
       "    </tr>\n",
       "  </tbody>\n",
       "</table>\n",
       "</div>"
      ],
      "text/plain": [
       "      br_c cop_c zon_hlv zon_mcls\n",
       "0  A010001   A01     Z17   Z17024\n",
       "1  A010002   A01     Z17   Z17018\n",
       "2  A010003   A01     Z17   Z17011\n",
       "3  A010004   A01     Z16   Z16007\n",
       "4  A010005   A01     Z17   Z17005"
      ]
     },
     "execution_count": 56,
     "metadata": {},
     "output_type": "execute_result"
    }
   ],
   "source": [
    "BR.head()"
   ]
  },
  {
   "cell_type": "code",
   "execution_count": 60,
   "id": "3093f96c",
   "metadata": {},
   "outputs": [
    {
     "data": {
      "text/plain": [
       "array(['A01', 'A02', 'A03', 'A04', 'A05', 'B01', 'C01', 'C02', 'D01', 'D02', 'E01'], dtype=object)"
      ]
     },
     "execution_count": 60,
     "metadata": {},
     "output_type": "execute_result"
    }
   ],
   "source": [
    "BR['cop_c'].unique() #A01 롯데백화점 A02 롯데마트 A03 롯데슈퍼 A04 세븐일레븐 A05 롯데하이마트 A06 롯데 ON(이커머스)"
   ]
  },
  {
   "cell_type": "code",
   "execution_count": 64,
   "id": "0aab5317",
   "metadata": {},
   "outputs": [
    {
     "data": {
      "text/html": [
       "<div>\n",
       "<style scoped>\n",
       "    .dataframe tbody tr th:only-of-type {\n",
       "        vertical-align: middle;\n",
       "    }\n",
       "\n",
       "    .dataframe tbody tr th {\n",
       "        vertical-align: top;\n",
       "    }\n",
       "\n",
       "    .dataframe thead th {\n",
       "        text-align: right;\n",
       "    }\n",
       "</style>\n",
       "<table border=\"1\" class=\"dataframe\">\n",
       "  <thead>\n",
       "    <tr style=\"text-align: right;\">\n",
       "      <th></th>\n",
       "      <th>br_c</th>\n",
       "      <th>cop_c</th>\n",
       "      <th>zon_hlv</th>\n",
       "      <th>zon_mcls</th>\n",
       "    </tr>\n",
       "  </thead>\n",
       "  <tbody>\n",
       "    <tr>\n",
       "      <th>0</th>\n",
       "      <td>A010001</td>\n",
       "      <td>A01</td>\n",
       "      <td>Z17</td>\n",
       "      <td>Z17024</td>\n",
       "    </tr>\n",
       "    <tr>\n",
       "      <th>1</th>\n",
       "      <td>A010002</td>\n",
       "      <td>A01</td>\n",
       "      <td>Z17</td>\n",
       "      <td>Z17018</td>\n",
       "    </tr>\n",
       "    <tr>\n",
       "      <th>2</th>\n",
       "      <td>A010003</td>\n",
       "      <td>A01</td>\n",
       "      <td>Z17</td>\n",
       "      <td>Z17011</td>\n",
       "    </tr>\n",
       "    <tr>\n",
       "      <th>3</th>\n",
       "      <td>A010004</td>\n",
       "      <td>A01</td>\n",
       "      <td>Z16</td>\n",
       "      <td>Z16007</td>\n",
       "    </tr>\n",
       "    <tr>\n",
       "      <th>4</th>\n",
       "      <td>A010005</td>\n",
       "      <td>A01</td>\n",
       "      <td>Z17</td>\n",
       "      <td>Z17005</td>\n",
       "    </tr>\n",
       "  </tbody>\n",
       "</table>\n",
       "</div>"
      ],
      "text/plain": [
       "      br_c cop_c zon_hlv zon_mcls\n",
       "0  A010001   A01     Z17   Z17024\n",
       "1  A010002   A01     Z17   Z17018\n",
       "2  A010003   A01     Z17   Z17011\n",
       "3  A010004   A01     Z16   Z16007\n",
       "4  A010005   A01     Z17   Z17005"
      ]
     },
     "execution_count": 64,
     "metadata": {},
     "output_type": "execute_result"
    }
   ],
   "source": [
    "store = BR.loc[BR['cop_c'].isin(['A01','A02','A03','A04'])]\n",
    "store.head()"
   ]
  },
  {
   "cell_type": "code",
   "execution_count": 77,
   "id": "bfcaf879",
   "metadata": {},
   "outputs": [
    {
     "data": {
      "image/png": "[encoded data removed]",
      "text/plain": [
       "<Figure size 432x288 with 1 Axes>"
      ]
     },
     "metadata": {},
     "output_type": "display_data"
    }
   ],
   "source": [
    "labels = store['cop_c'].value_counts().index.tolist()\n",
    "ratio = store['cop_c'].value_counts().values.tolist()\n",
    "colors = ['#ff9999', '#ffc000', '#8fd9b6', '#d395d0']\n",
    "\n",
    "plt.pie(ratio,labels=labels,autopct='%.1f%%',pctdistance=1.2, labeldistance=1.5, colors=colors)\n",
    "plt.show()"
   ]
  }
 ],
 "metadata": {
  "kernelspec": {
   "display_name": "Python 3 (ipykernel)",
   "language": "python",
   "name": "python3"
  },
  "language_info": {
   "codemirror_mode": {
    "name": "ipython",
    "version": 3
   },
   "file_extension": ".py",
   "mimetype": "text/x-python",
   "name": "python",
   "nbconvert_exporter": "python",
   "pygments_lexer": "ipython3",
   "version": "3.9.7"
  }
 },
 "nbformat": 4,
 "nbformat_minor": 5
}
