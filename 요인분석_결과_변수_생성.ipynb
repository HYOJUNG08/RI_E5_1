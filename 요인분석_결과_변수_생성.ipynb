{
 "cells": [
  {
   "cell_type": "code",
   "execution_count": 1,
   "id": "60da8412",
   "metadata": {},
   "outputs": [],
   "source": [
    "import numpy as np\n",
    "import pandas as pd"
   ]
  },
  {
   "cell_type": "markdown",
   "id": "c7a49b28",
   "metadata": {},
   "source": [
    "# 데이터 불러오기"
   ]
  },
  {
   "cell_type": "code",
   "execution_count": 11,
   "id": "d9d7f423",
   "metadata": {},
   "outputs": [
    {
     "name": "stderr",
     "output_type": "stream",
     "text": [
      "C:\\Users\\Eugene\\AppData\\Roaming\\Python\\Python39\\site-packages\\IPython\\core\\interactiveshell.py:3361: DtypeWarning: Columns (4) have mixed types.Specify dtype option on import or set low_memory=False.\n",
      "  exec(code_obj, self.user_global_ns, self.user_ns)\n"
     ]
    }
   ],
   "source": [
    "df_demo = pd.read_csv('data/LPOINT_BIG_COMP_01_DEMO.csv') # 고객정보\n",
    "df_pdde = pd.read_csv('data/LPOINT_BIG_COMP_02_PDDE.csv', parse_dates = [6]) # 구매정보\n",
    "df_pd = pd.read_csv('data/LPOINT_BIG_COMP_04_PD_CLAC.csv') # 상품 정보"
   ]
  },
  {
   "cell_type": "code",
   "execution_count": 12,
   "id": "0c434591",
   "metadata": {
    "scrolled": true
   },
   "outputs": [
    {
     "name": "stdout",
     "output_type": "stream",
     "text": [
      "(196262, 16)\n"
     ]
    },
    {
     "data": {
      "text/html": [
       "<div>\n",
       "<style scoped>\n",
       "    .dataframe tbody tr th:only-of-type {\n",
       "        vertical-align: middle;\n",
       "    }\n",
       "\n",
       "    .dataframe tbody tr th {\n",
       "        vertical-align: top;\n",
       "    }\n",
       "\n",
       "    .dataframe thead th {\n",
       "        text-align: right;\n",
       "    }\n",
       "</style>\n",
       "<table border=\"1\" class=\"dataframe\">\n",
       "  <thead>\n",
       "    <tr style=\"text-align: right;\">\n",
       "      <th></th>\n",
       "      <th>cust</th>\n",
       "      <th>rct_no</th>\n",
       "      <th>chnl_dv</th>\n",
       "      <th>cop_c</th>\n",
       "      <th>br_c</th>\n",
       "      <th>pd_c</th>\n",
       "      <th>de_dt</th>\n",
       "      <th>de_hr</th>\n",
       "      <th>buy_am</th>\n",
       "      <th>buy_ct</th>\n",
       "      <th>ma_fem_dv</th>\n",
       "      <th>ages</th>\n",
       "      <th>zon_hlv</th>\n",
       "      <th>pd_nm</th>\n",
       "      <th>clac_hlv_nm</th>\n",
       "      <th>clac_mcls_nm</th>\n",
       "    </tr>\n",
       "  </thead>\n",
       "  <tbody>\n",
       "    <tr>\n",
       "      <th>654</th>\n",
       "      <td>M496844384</td>\n",
       "      <td>A02191496496</td>\n",
       "      <td>1</td>\n",
       "      <td>A02</td>\n",
       "      <td>A020053</td>\n",
       "      <td>PD0290</td>\n",
       "      <td>2021-05-08</td>\n",
       "      <td>17</td>\n",
       "      <td>39000.0</td>\n",
       "      <td>1</td>\n",
       "      <td>여성</td>\n",
       "      <td>20대</td>\n",
       "      <td>Z17</td>\n",
       "      <td>남성티셔츠</td>\n",
       "      <td>남성의류</td>\n",
       "      <td>남성의류상의</td>\n",
       "    </tr>\n",
       "    <tr>\n",
       "      <th>2574</th>\n",
       "      <td>M748140584</td>\n",
       "      <td>A02262444001</td>\n",
       "      <td>1</td>\n",
       "      <td>A02</td>\n",
       "      <td>A020080</td>\n",
       "      <td>PD0290</td>\n",
       "      <td>2021-01-08</td>\n",
       "      <td>17</td>\n",
       "      <td>20000.0</td>\n",
       "      <td>2</td>\n",
       "      <td>남성</td>\n",
       "      <td>20대</td>\n",
       "      <td>Z11</td>\n",
       "      <td>남성티셔츠</td>\n",
       "      <td>남성의류</td>\n",
       "      <td>남성의류상의</td>\n",
       "    </tr>\n",
       "    <tr>\n",
       "      <th>2575</th>\n",
       "      <td>M748140584</td>\n",
       "      <td>A02262444001</td>\n",
       "      <td>1</td>\n",
       "      <td>A02</td>\n",
       "      <td>A020080</td>\n",
       "      <td>PD0290</td>\n",
       "      <td>2021-01-08</td>\n",
       "      <td>17</td>\n",
       "      <td>9000.0</td>\n",
       "      <td>9</td>\n",
       "      <td>남성</td>\n",
       "      <td>20대</td>\n",
       "      <td>Z11</td>\n",
       "      <td>남성티셔츠</td>\n",
       "      <td>남성의류</td>\n",
       "      <td>남성의류상의</td>\n",
       "    </tr>\n",
       "    <tr>\n",
       "      <th>2576</th>\n",
       "      <td>M748140584</td>\n",
       "      <td>A02262444001</td>\n",
       "      <td>1</td>\n",
       "      <td>A02</td>\n",
       "      <td>A020080</td>\n",
       "      <td>PD0290</td>\n",
       "      <td>2021-01-08</td>\n",
       "      <td>17</td>\n",
       "      <td>900.0</td>\n",
       "      <td>9</td>\n",
       "      <td>남성</td>\n",
       "      <td>20대</td>\n",
       "      <td>Z11</td>\n",
       "      <td>남성티셔츠</td>\n",
       "      <td>남성의류</td>\n",
       "      <td>남성의류상의</td>\n",
       "    </tr>\n",
       "    <tr>\n",
       "      <th>3166</th>\n",
       "      <td>M395590139</td>\n",
       "      <td>A02064243742</td>\n",
       "      <td>1</td>\n",
       "      <td>A02</td>\n",
       "      <td>A020012</td>\n",
       "      <td>PD0290</td>\n",
       "      <td>2021-02-01</td>\n",
       "      <td>11</td>\n",
       "      <td>600.0</td>\n",
       "      <td>6</td>\n",
       "      <td>여성</td>\n",
       "      <td>20대</td>\n",
       "      <td>Z17</td>\n",
       "      <td>남성티셔츠</td>\n",
       "      <td>남성의류</td>\n",
       "      <td>남성의류상의</td>\n",
       "    </tr>\n",
       "  </tbody>\n",
       "</table>\n",
       "</div>"
      ],
      "text/plain": [
       "            cust        rct_no  chnl_dv cop_c     br_c    pd_c      de_dt  \\\n",
       "654   M496844384  A02191496496        1   A02  A020053  PD0290 2021-05-08   \n",
       "2574  M748140584  A02262444001        1   A02  A020080  PD0290 2021-01-08   \n",
       "2575  M748140584  A02262444001        1   A02  A020080  PD0290 2021-01-08   \n",
       "2576  M748140584  A02262444001        1   A02  A020080  PD0290 2021-01-08   \n",
       "3166  M395590139  A02064243742        1   A02  A020012  PD0290 2021-02-01   \n",
       "\n",
       "      de_hr   buy_am  buy_ct ma_fem_dv ages zon_hlv  pd_nm clac_hlv_nm  \\\n",
       "654      17  39000.0       1        여성  20대     Z17  남성티셔츠        남성의류   \n",
       "2574     17  20000.0       2        남성  20대     Z11  남성티셔츠        남성의류   \n",
       "2575     17   9000.0       9        남성  20대     Z11  남성티셔츠        남성의류   \n",
       "2576     17    900.0       9        남성  20대     Z11  남성티셔츠        남성의류   \n",
       "3166     11    600.0       6        여성  20대     Z17  남성티셔츠        남성의류   \n",
       "\n",
       "     clac_mcls_nm  \n",
       "654        남성의류상의  \n",
       "2574       남성의류상의  \n",
       "2575       남성의류상의  \n",
       "2576       남성의류상의  \n",
       "3166       남성의류상의  "
      ]
     },
     "execution_count": 12,
     "metadata": {},
     "output_type": "execute_result"
    }
   ],
   "source": [
    "DF = pd.merge(df_pdde, df_demo, on='cust')\n",
    "DF = pd.merge(DF, df_pd, on='pd_c')\n",
    "DF = DF.loc[(DF['ages'] == '20대')&(DF['cop_c'].apply(lambda x: x in ['A02', 'A03', 'A04']))]\n",
    "print(DF.shape)\n",
    "DF.head()"
   ]
  },
  {
   "cell_type": "code",
   "execution_count": 5,
   "id": "efbda5a5",
   "metadata": {},
   "outputs": [],
   "source": [
    "factor1 = ['채소', '조미료', '축산물', '과일', '수산물', '건해산물', '양곡', '병통조림', '유제품']\n",
    "factor2 = ['음료', '과자', '조리식품', '대용식', '냉동식품', '냉장식품', '주류']\n",
    "\n",
    "fa1df = DF.loc[DF['clac_hlv_nm'].apply(lambda x: x in factor1)]\n",
    "fa2df = DF.loc[DF['clac_hlv_nm'].apply(lambda x: x in factor2)]"
   ]
  },
  {
   "cell_type": "code",
   "execution_count": 6,
   "id": "3d7c4264",
   "metadata": {},
   "outputs": [],
   "source": [
    "Factor1 = fa1df.groupby('cust')['rct_no'].unique().apply(lambda x: len(x)).to_frame('fa1_rct_n')\n",
    "Factor2 = fa2df.groupby('cust')['rct_no'].unique().apply(lambda x: len(x)).to_frame('fa2_rct_n')"
   ]
  },
  {
   "cell_type": "code",
   "execution_count": 9,
   "id": "6ee25ee4",
   "metadata": {},
   "outputs": [
    {
     "name": "stdout",
     "output_type": "stream",
     "text": [
      "(1836, 2)\n"
     ]
    },
    {
     "data": {
      "text/html": [
       "<div>\n",
       "<style scoped>\n",
       "    .dataframe tbody tr th:only-of-type {\n",
       "        vertical-align: middle;\n",
       "    }\n",
       "\n",
       "    .dataframe tbody tr th {\n",
       "        vertical-align: top;\n",
       "    }\n",
       "\n",
       "    .dataframe thead th {\n",
       "        text-align: right;\n",
       "    }\n",
       "</style>\n",
       "<table border=\"1\" class=\"dataframe\">\n",
       "  <thead>\n",
       "    <tr style=\"text-align: right;\">\n",
       "      <th></th>\n",
       "      <th>fa1_rct_n</th>\n",
       "      <th>fa2_rct_n</th>\n",
       "    </tr>\n",
       "    <tr>\n",
       "      <th>cust</th>\n",
       "      <th></th>\n",
       "      <th></th>\n",
       "    </tr>\n",
       "  </thead>\n",
       "  <tbody>\n",
       "    <tr>\n",
       "      <th>M000871427</th>\n",
       "      <td>6</td>\n",
       "      <td>9</td>\n",
       "    </tr>\n",
       "    <tr>\n",
       "      <th>M001403108</th>\n",
       "      <td>12</td>\n",
       "      <td>12</td>\n",
       "    </tr>\n",
       "    <tr>\n",
       "      <th>M002122238</th>\n",
       "      <td>5</td>\n",
       "      <td>22</td>\n",
       "    </tr>\n",
       "    <tr>\n",
       "      <th>M002238144</th>\n",
       "      <td>53</td>\n",
       "      <td>99</td>\n",
       "    </tr>\n",
       "    <tr>\n",
       "      <th>M002352655</th>\n",
       "      <td>17</td>\n",
       "      <td>14</td>\n",
       "    </tr>\n",
       "  </tbody>\n",
       "</table>\n",
       "</div>"
      ],
      "text/plain": [
       "            fa1_rct_n  fa2_rct_n\n",
       "cust                            \n",
       "M000871427          6          9\n",
       "M001403108         12         12\n",
       "M002122238          5         22\n",
       "M002238144         53         99\n",
       "M002352655         17         14"
      ]
     },
     "execution_count": 9,
     "metadata": {},
     "output_type": "execute_result"
    }
   ],
   "source": [
    "FAdf = pd.merge(Factor1, Factor2, left_index = True, right_index = True)\n",
    "print(FAdf.shape)\n",
    "FAdf.head()"
   ]
  },
  {
   "cell_type": "code",
   "execution_count": 10,
   "id": "a146dec7",
   "metadata": {},
   "outputs": [],
   "source": [
    "FAdf.to_csv('data/FactorAnalysis_result.csv')"
   ]
  }
 ],
 "metadata": {
  "kernelspec": {
   "display_name": "Python 3 (ipykernel)",
   "language": "python",
   "name": "python3"
  },
  "language_info": {
   "codemirror_mode": {
    "name": "ipython",
    "version": 3
   },
   "file_extension": ".py",
   "mimetype": "text/x-python",
   "name": "python",
   "nbconvert_exporter": "python",
   "pygments_lexer": "ipython3",
   "version": "3.9.7"
  }
 },
 "nbformat": 4,
 "nbformat_minor": 5
}
